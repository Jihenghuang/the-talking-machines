{
 "cells": [
  {
   "cell_type": "markdown",
   "metadata": {},
   "source": [
    "### Random Forest     \n",
    "Example of Dr. Ravi Shroff's [policy research](https://5harad.com/papers/frisky.pdf) on NYPD's *Stop-and-Frisk* in the early 1990s. "
   ]
  },
  {
   "cell_type": "code",
   "execution_count": 1,
   "metadata": {
    "collapsed": true
   },
   "outputs": [],
   "source": [
    "import pandas as pd\n",
    "import numpy as np\n",
    "from sklearn.ensemble import RandomForestClassifier\n",
    "from sklearn.metrics import roc_auc_score\n",
    "from sklearn.metrics import accuracy_score\n",
    "import random\n",
    "import matplotlib\n",
    "%matplotlib inline\n",
    "import matplotlib.pyplot as plt\n",
    "matplotlib.style.use('ggplot')"
   ]
  },
  {
   "cell_type": "code",
   "execution_count": 61,
   "metadata": {
    "collapsed": true
   },
   "outputs": [],
   "source": [
    "# load data\n",
    "train_url = \"https://raw.githubusercontent.com/Jihenghuang/the-talking-machines/master/data/random-forest/sqf_train_cpw.csv\"\n",
    "test_url = \"https://raw.githubusercontent.com/Jihenghuang/the-talking-machines/master/data/random-forest/sqf_test_cpw.csv\"\n",
    "\n",
    "train_set = pd.DataFrame.from_csv(train_url, index_col = False)\n",
    "test_set = pd.DataFrame.from_csv(test_url, index_col = False)"
   ]
  },
  {
   "cell_type": "code",
   "execution_count": 62,
   "metadata": {
    "collapsed": false
   },
   "outputs": [
    {
     "name": "stdout",
     "output_type": "stream",
     "text": [
      "Index([u'id', u'year', u'found.weapon', u'found.gun', u'arrested',\n",
      "       u'suspect.race', u'suspect.age', u'suspect.build', u'suspect.sex',\n",
      "       u'suspect.height', u'suspect.weight', u'stopped.bc.desc',\n",
      "       u'stopped.bc.violent', u'stopped.bc.other', u'stopped.bc.object',\n",
      "       u'stopped.bc.casing', u'stopped.bc.lookout', u'stopped.bc.drugs',\n",
      "       u'stopped.bc.clothing', u'stopped.bc.furtive', u'stopped.bc.bulge',\n",
      "       u'precinct', u'inside.outside', u'location.housing',\n",
      "       u'observation.period', u'officer.uniform', u'additional.report',\n",
      "       u'additional.investigation', u'additional.proximity',\n",
      "       u'additional.evasive', u'additional.associating',\n",
      "       u'additional.direction', u'additional.highcrime', u'additional.time',\n",
      "       u'additional.sights', u'additional.other', u'radio.run', u'day',\n",
      "       u'month', u'time.period'],\n",
      "      dtype='object')\n",
      "(310652, 40)\n"
     ]
    }
   ],
   "source": [
    "# Explore the data a bit\n",
    "# feature names and number of rows/cols\n",
    "print train_set.columns\n",
    "print train_set.shape"
   ]
  },
  {
   "cell_type": "code",
   "execution_count": 63,
   "metadata": {
    "collapsed": false
   },
   "outputs": [
    {
     "data": {
      "text/html": [
       "<div>\n",
       "<table border=\"1\" class=\"dataframe\">\n",
       "  <thead>\n",
       "    <tr style=\"text-align: right;\">\n",
       "      <th></th>\n",
       "      <th>id</th>\n",
       "      <th>year</th>\n",
       "      <th>found.weapon</th>\n",
       "      <th>found.gun</th>\n",
       "      <th>arrested</th>\n",
       "      <th>suspect.race</th>\n",
       "      <th>suspect.age</th>\n",
       "      <th>suspect.build</th>\n",
       "      <th>suspect.sex</th>\n",
       "      <th>suspect.height</th>\n",
       "      <th>...</th>\n",
       "      <th>additional.associating</th>\n",
       "      <th>additional.direction</th>\n",
       "      <th>additional.highcrime</th>\n",
       "      <th>additional.time</th>\n",
       "      <th>additional.sights</th>\n",
       "      <th>additional.other</th>\n",
       "      <th>radio.run</th>\n",
       "      <th>day</th>\n",
       "      <th>month</th>\n",
       "      <th>time.period</th>\n",
       "    </tr>\n",
       "  </thead>\n",
       "  <tbody>\n",
       "    <tr>\n",
       "      <th>0</th>\n",
       "      <td>1565349</td>\n",
       "      <td>2009</td>\n",
       "      <td>False</td>\n",
       "      <td>False</td>\n",
       "      <td>False</td>\n",
       "      <td>hispanic</td>\n",
       "      <td>-0.016428</td>\n",
       "      <td>thin</td>\n",
       "      <td>male</td>\n",
       "      <td>0.027557</td>\n",
       "      <td>...</td>\n",
       "      <td>False</td>\n",
       "      <td>True</td>\n",
       "      <td>False</td>\n",
       "      <td>False</td>\n",
       "      <td>False</td>\n",
       "      <td>False</td>\n",
       "      <td>False</td>\n",
       "      <td>Saturday</td>\n",
       "      <td>January</td>\n",
       "      <td>6</td>\n",
       "    </tr>\n",
       "    <tr>\n",
       "      <th>1</th>\n",
       "      <td>2582029</td>\n",
       "      <td>2010</td>\n",
       "      <td>False</td>\n",
       "      <td>False</td>\n",
       "      <td>False</td>\n",
       "      <td>black</td>\n",
       "      <td>-0.418262</td>\n",
       "      <td>thin</td>\n",
       "      <td>male</td>\n",
       "      <td>1.007377</td>\n",
       "      <td>...</td>\n",
       "      <td>False</td>\n",
       "      <td>True</td>\n",
       "      <td>False</td>\n",
       "      <td>False</td>\n",
       "      <td>False</td>\n",
       "      <td>False</td>\n",
       "      <td>False</td>\n",
       "      <td>Friday</td>\n",
       "      <td>October</td>\n",
       "      <td>5</td>\n",
       "    </tr>\n",
       "    <tr>\n",
       "      <th>2</th>\n",
       "      <td>1969776</td>\n",
       "      <td>2009</td>\n",
       "      <td>False</td>\n",
       "      <td>False</td>\n",
       "      <td>False</td>\n",
       "      <td>hispanic</td>\n",
       "      <td>1.389991</td>\n",
       "      <td>thin</td>\n",
       "      <td>male</td>\n",
       "      <td>-1.605475</td>\n",
       "      <td>...</td>\n",
       "      <td>False</td>\n",
       "      <td>True</td>\n",
       "      <td>False</td>\n",
       "      <td>False</td>\n",
       "      <td>False</td>\n",
       "      <td>False</td>\n",
       "      <td>True</td>\n",
       "      <td>Monday</td>\n",
       "      <td>September</td>\n",
       "      <td>6</td>\n",
       "    </tr>\n",
       "    <tr>\n",
       "      <th>3</th>\n",
       "      <td>2324214</td>\n",
       "      <td>2010</td>\n",
       "      <td>True</td>\n",
       "      <td>False</td>\n",
       "      <td>False</td>\n",
       "      <td>black</td>\n",
       "      <td>1.691367</td>\n",
       "      <td>medium</td>\n",
       "      <td>male</td>\n",
       "      <td>0.680770</td>\n",
       "      <td>...</td>\n",
       "      <td>False</td>\n",
       "      <td>False</td>\n",
       "      <td>False</td>\n",
       "      <td>True</td>\n",
       "      <td>False</td>\n",
       "      <td>False</td>\n",
       "      <td>False</td>\n",
       "      <td>Friday</td>\n",
       "      <td>May</td>\n",
       "      <td>6</td>\n",
       "    </tr>\n",
       "    <tr>\n",
       "      <th>4</th>\n",
       "      <td>1722977</td>\n",
       "      <td>2009</td>\n",
       "      <td>False</td>\n",
       "      <td>False</td>\n",
       "      <td>False</td>\n",
       "      <td>black</td>\n",
       "      <td>-0.518721</td>\n",
       "      <td>medium</td>\n",
       "      <td>male</td>\n",
       "      <td>1.333983</td>\n",
       "      <td>...</td>\n",
       "      <td>False</td>\n",
       "      <td>False</td>\n",
       "      <td>True</td>\n",
       "      <td>True</td>\n",
       "      <td>False</td>\n",
       "      <td>False</td>\n",
       "      <td>False</td>\n",
       "      <td>Saturday</td>\n",
       "      <td>April</td>\n",
       "      <td>1</td>\n",
       "    </tr>\n",
       "  </tbody>\n",
       "</table>\n",
       "<p>5 rows × 40 columns</p>\n",
       "</div>"
      ],
      "text/plain": [
       "        id  year found.weapon found.gun arrested suspect.race  suspect.age  \\\n",
       "0  1565349  2009        False     False    False     hispanic    -0.016428   \n",
       "1  2582029  2010        False     False    False        black    -0.418262   \n",
       "2  1969776  2009        False     False    False     hispanic     1.389991   \n",
       "3  2324214  2010         True     False    False        black     1.691367   \n",
       "4  1722977  2009        False     False    False        black    -0.518721   \n",
       "\n",
       "  suspect.build suspect.sex  suspect.height     ...      \\\n",
       "0          thin        male        0.027557     ...       \n",
       "1          thin        male        1.007377     ...       \n",
       "2          thin        male       -1.605475     ...       \n",
       "3        medium        male        0.680770     ...       \n",
       "4        medium        male        1.333983     ...       \n",
       "\n",
       "   additional.associating additional.direction additional.highcrime  \\\n",
       "0                   False                 True                False   \n",
       "1                   False                 True                False   \n",
       "2                   False                 True                False   \n",
       "3                   False                False                False   \n",
       "4                   False                False                 True   \n",
       "\n",
       "  additional.time additional.sights additional.other radio.run       day  \\\n",
       "0           False             False            False     False  Saturday   \n",
       "1           False             False            False     False    Friday   \n",
       "2           False             False            False      True    Monday   \n",
       "3            True             False            False     False    Friday   \n",
       "4            True             False            False     False  Saturday   \n",
       "\n",
       "       month time.period  \n",
       "0    January           6  \n",
       "1    October           5  \n",
       "2  September           6  \n",
       "3        May           6  \n",
       "4      April           1  \n",
       "\n",
       "[5 rows x 40 columns]"
      ]
     },
     "execution_count": 63,
     "metadata": {},
     "output_type": "execute_result"
    }
   ],
   "source": [
    "train_set.head()"
   ]
  },
  {
   "cell_type": "code",
   "execution_count": 64,
   "metadata": {
    "collapsed": false
   },
   "outputs": [
    {
     "name": "stdout",
     "output_type": "stream",
     "text": [
      "2009    156592\n",
      "2010    154060\n",
      "Name: year, dtype: int64 \n",
      "\n",
      "False    299677\n",
      "True      10975\n",
      "Name: found.weapon, dtype: int64 \n",
      "\n",
      "75    18587\n",
      "73    16775\n",
      "32    13785\n",
      "44    13499\n",
      "46    13443\n",
      "Name: precinct, dtype: int64 \n",
      "\n",
      "black              193723\n",
      "hispanic            94374\n",
      "white               12451\n",
      "other                5346\n",
      "asian                4054\n",
      "native.american       704\n",
      "Name: suspect.race, dtype: int64\n"
     ]
    }
   ],
   "source": [
    "# distribution of various features in the training set\n",
    "print train_set['year'].value_counts(), \"\\n\"\n",
    "print train_set['found.weapon'].value_counts(), \"\\n\"\n",
    "print train_set['precinct'].value_counts().sort_values(ascending = False)[:5], \"\\n\"\n",
    "print train_set['suspect.race'].value_counts()"
   ]
  },
  {
   "cell_type": "code",
   "execution_count": 6,
   "metadata": {
    "collapsed": false
   },
   "outputs": [
    {
     "name": "stdout",
     "output_type": "stream",
     "text": [
      "black              0.623601\n",
      "hispanic           0.303793\n",
      "white              0.040080\n",
      "other              0.017209\n",
      "asian              0.013050\n",
      "native.american    0.002266\n",
      "Name: suspect.race, dtype: float64 \n",
      "\n",
      "male      0.965389\n",
      "female    0.034611\n",
      "Name: suspect.sex, dtype: float64 \n",
      "\n"
     ]
    }
   ],
   "source": [
    "# proportion of features in the training set\n",
    "print train_set['suspect.race'].value_counts() / np.sum(train_set['suspect.race'].value_counts()), \"\\n\"\n",
    "print train_set['suspect.sex'].value_counts() / np.sum(train_set['suspect.sex'].value_counts()), \"\\n\""
   ]
  },
  {
   "cell_type": "code",
   "execution_count": 65,
   "metadata": {
    "collapsed": false
   },
   "outputs": [
    {
     "name": "stdout",
     "output_type": "stream",
     "text": [
      "[(17, 0.33663366336633666), (13, 0.28440366972477066), (14, 0.27898137590269861), (1, 0.22265625), (18, 0.20423600605143721)]\n"
     ]
    }
   ],
   "source": [
    "# Warmup question:\n",
    "# which precinct in the training set has the highest percentage of successful stops, i.e. stops where found.weapon==True?\n",
    "temp = train_set.groupby('precinct')\n",
    "precinct_list = []\n",
    "for name, group in temp:\n",
    "    precinct_list.append((name, np.mean(group['found.weapon'])))\n",
    "print sorted(precinct_list, reverse=True, key=lambda x: x[1])[:5]"
   ]
  },
  {
   "cell_type": "code",
   "execution_count": 8,
   "metadata": {
    "collapsed": false
   },
   "outputs": [
    {
     "name": "stdout",
     "output_type": "stream",
     "text": [
      "(310652, 40)\n",
      "(296521, 40)\n"
     ]
    }
   ],
   "source": [
    "print train_set.shape\n",
    "print test_set.shape"
   ]
  },
  {
   "cell_type": "code",
   "execution_count": 67,
   "metadata": {
    "collapsed": true
   },
   "outputs": [],
   "source": [
    "# join and re-split data to get all categories\n",
    "train_set['set'] = 'train'\n",
    "test_set['set'] = 'test'\n",
    "joined_data = train_set.append(test_set)\n",
    "# dataset = pd.concat([X_train, X_valid], axis=0) \n",
    "\n",
    "# select all non-real-valued columns (besides 'set' and 'id') and convert to one-hot encoding\n",
    "col_names = joined_data.columns\n",
    "col_names = col_names.difference(['id', 'set', 'suspect.age', 'suspect.weight', 'suspect.height', 'observation.period'])\n",
    "joined_data = pd.get_dummies(data=joined_data, columns=col_names, sparse=True)"
   ]
  },
  {
   "cell_type": "code",
   "execution_count": 68,
   "metadata": {
    "collapsed": false
   },
   "outputs": [
    {
     "name": "stdout",
     "output_type": "stream",
     "text": [
      "179\n",
      "['id', 'suspect.age', 'suspect.height', 'suspect.weight', 'observation.period']\n"
     ]
    }
   ],
   "source": [
    "# what does the data look like after converting to one-hot encoding?\n",
    "print len(list(joined_data.columns))\n",
    "print list(joined_data.columns)[:5]"
   ]
  },
  {
   "cell_type": "code",
   "execution_count": 11,
   "metadata": {
    "collapsed": false
   },
   "outputs": [
    {
     "name": "stdout",
     "output_type": "stream",
     "text": [
      "179\n"
     ]
    }
   ],
   "source": [
    "print len(list(joined_data))"
   ]
  },
  {
   "cell_type": "code",
   "execution_count": 69,
   "metadata": {
    "collapsed": false
   },
   "outputs": [
    {
     "name": "stdout",
     "output_type": "stream",
     "text": [
      "153\n",
      "['id', 'suspect.age', 'suspect.height', 'suspect.weight', 'observation.period']\n"
     ]
    }
   ],
   "source": [
    "# remove redundant columns (binary columns of the form 'variable_False')\n",
    "redundant_cols = []\n",
    "for name in list(joined_data):\n",
    "    if \"False\" in name:\n",
    "        redundant_cols.append(name)\n",
    "joined_data.drop(redundant_cols, inplace=True, axis=1)\n",
    "\n",
    "# verify that redundant columns have been removed\n",
    "print len(list(joined_data.columns))\n",
    "print list(joined_data.columns)[:5]"
   ]
  },
  {
   "cell_type": "code",
   "execution_count": 13,
   "metadata": {
    "collapsed": false
   },
   "outputs": [],
   "source": [
    "# (remove this line when running this cell) pd concat example\n",
    "# df2 = pd.DataFrame({ 'A' : 1.,\n",
    "#    ....:                      'B' : pd.Timestamp('20130102'),\n",
    "#    ....:                      'C' : pd.Series(1,index=list(range(4)),dtype='float32'),\n",
    "#    ....:                      'D' : np.array([3] * 4,dtype='int32'),\n",
    "#    ....:                      'E' : pd.Categorical([\"test\",\"train\",\"test\",\"train\"]),\n",
    "#    ....:                      'F' : 'foo' })\n",
    "# df3 = pd.DataFrame({ 'A' : 1.,\n",
    "#    ....:                      'B' : pd.Timestamp('20130103'),\n",
    "#    ....:                      'C' : pd.Series(1,index=list(range(5)),dtype='float32'),\n",
    "#    ....:                      'D' : np.array([4] * 5,dtype='int32'),\n",
    "#    ....:                      'E' : pd.Categorical([\"test\",\"train\",\"test\",\"train\",\"test\"]),\n",
    "#    ....:                      'F' : 'foo' })\n",
    "\n",
    "\n",
    "# print pd.concat([df2, df3], axis = 1)\n",
    "# print pd.concat([df2, df3], axis = 0)"
   ]
  },
  {
   "cell_type": "code",
   "execution_count": 14,
   "metadata": {
    "collapsed": true
   },
   "outputs": [],
   "source": [
    "# split data again\n",
    "train = joined_data.loc[joined_data['set'] == 'train']\n",
    "train = train.drop(['set'], axis=1)\n",
    "test = joined_data.loc[joined_data['set'] == 'test']\n",
    "test = test.drop(['set'], axis=1)"
   ]
  },
  {
   "cell_type": "code",
   "execution_count": 15,
   "metadata": {
    "collapsed": false
   },
   "outputs": [
    {
     "name": "stdout",
     "output_type": "stream",
     "text": [
      "   suspect.age  suspect.height  suspect.weight  observation.period  \\\n",
      "0    -0.016428        0.027557       -0.372207           -0.024228   \n",
      "1    -0.418262        1.007377       -0.719462           -0.225465   \n",
      "2     1.389991       -1.605475       -0.372207           -0.225465   \n",
      "3     1.691367        0.680770       -0.372207           -0.225465   \n",
      "4    -0.518721        1.333983        0.148676           -0.225465   \n",
      "\n",
      "   additional.associating_True  additional.direction_True  \\\n",
      "0                          NaN                        1.0   \n",
      "1                          NaN                        1.0   \n",
      "2                          NaN                        1.0   \n",
      "3                          NaN                        0.0   \n",
      "4                          NaN                        0.0   \n",
      "\n",
      "   additional.evasive_True  additional.highcrime_True  \\\n",
      "0                      1.0                        0.0   \n",
      "1                      1.0                        0.0   \n",
      "2                      0.0                        0.0   \n",
      "3                      0.0                        0.0   \n",
      "4                      0.0                        1.0   \n",
      "\n",
      "   additional.investigation_True  additional.other_True    ...      \\\n",
      "0                            NaN                    NaN    ...       \n",
      "1                            NaN                    NaN    ...       \n",
      "2                            NaN                    NaN    ...       \n",
      "3                            NaN                    NaN    ...       \n",
      "4                            NaN                    NaN    ...       \n",
      "\n",
      "   time.period_1  time.period_2  time.period_3  time.period_4  time.period_5  \\\n",
      "0            0.0            NaN            NaN            NaN            0.0   \n",
      "1            0.0            NaN            NaN            NaN            1.0   \n",
      "2            0.0            NaN            NaN            NaN            0.0   \n",
      "3            0.0            NaN            NaN            NaN            0.0   \n",
      "4            1.0            NaN            NaN            NaN            0.0   \n",
      "\n",
      "   time.period_6  year_2009  year_2010  year_2011  year_2012  \n",
      "0            1.0        1.0        0.0        NaN        NaN  \n",
      "1            0.0        0.0        1.0        NaN        NaN  \n",
      "2            1.0        1.0        0.0        NaN        NaN  \n",
      "3            1.0        0.0        1.0        NaN        NaN  \n",
      "4            0.0        1.0        0.0        NaN        NaN  \n",
      "\n",
      "[5 rows x 148 columns]\n"
     ]
    }
   ],
   "source": [
    "# split training data into features and outcome (numpy arrays, to feed to sklearn algorithms)\n",
    "label_train = np.ravel(train[['found.weapon_True']].values)\n",
    "pred_train = train.drop(['id', 'arrested_True', 'found.weapon_True', 'found.gun_True'], axis=1)\n",
    "\n",
    "print pred_train.head()\n",
    "pred_train = pred_train.values"
   ]
  },
  {
   "cell_type": "code",
   "execution_count": 17,
   "metadata": {
    "collapsed": false
   },
   "outputs": [],
   "source": [
    "# format test data\n",
    "results = test.copy()\n",
    "label_test = np.ravel(test[['found.weapon_True']].values)\n",
    "pred_test = test.drop(['id', 'found.weapon_True', 'arrested_True', 'found.gun_True'], axis=1)\n",
    "\n",
    "# remove unicode 'u'\n",
    "feature_names = list(pred_test.columns.values)\n",
    "pred_test = pred_test.values "
   ]
  },
  {
   "cell_type": "code",
   "execution_count": 26,
   "metadata": {
    "collapsed": false
   },
   "outputs": [],
   "source": [
    "# default\n",
    "# AUC:      0.739404038992\n",
    "# Accuracy: 0.966036132348"
   ]
  },
  {
   "cell_type": "code",
   "execution_count": 24,
   "metadata": {
    "collapsed": false
   },
   "outputs": [],
   "source": [
    "# num_trees = 20, \n",
    "# n_estimators=num_trees, n_jobs=4, min_samples_split=10, verbose=2, oob_score = True\n",
    "# AUC:      0.801864435448\n",
    "# Accuracy: 0.966484667191"
   ]
  },
  {
   "cell_type": "code",
   "execution_count": 25,
   "metadata": {
    "collapsed": false
   },
   "outputs": [],
   "source": [
    "# num_trees = 30\n",
    "# n_estimators=num_trees, n_jobs=4, min_samples_split=10, verbose=2, oob_score = True\n",
    "# AUC:      0.809404023205\n",
    "# Accuracy: 0.966282320645"
   ]
  },
  {
   "cell_type": "code",
   "execution_count": 20,
   "metadata": {
    "collapsed": false
   },
   "outputs": [],
   "source": [
    "# train the model with 500 trees, 4 parallel processes, and 10 min samples to split a node \n",
    "num_trees = 500\n",
    "rf = RandomForestClassifier(n_estimators=num_trees, n_jobs=4, min_samples_split=10, verbose=2, oob_score = True)\n",
    "rf.fit(X=pred_train, y=label_train)\n",
    "\n",
    "# generate predictions and add them to 'results'\n",
    "rf_predictions = rf.predict_proba(pred_test)[:, 1]\n",
    "results['preds'] = rf_predictions\n",
    "\n",
    "# get AUC score (produce probabilistic predictions)\n",
    "print roc_auc_score(label_test, rf_predictions)\n",
    "\n",
    "# get accuracy (predict the class)\n",
    "rf_predictions_class = rf.predict(pred_test)\n",
    "print accuracy_score(label_test, rf_predictions_class, normalize=True)\n",
    "\n",
    "# Questions:\n",
    "# What happens to AUC if I change the target variable to found.gun_True?\n",
    "# What happens to AUC and accuracy if I forgot to take out found.weapon_True from the features?  Why?\n",
    "# How does AUC change if I forgot to remove 'arrested_True'?  Does that mean I should remove it?\n",
    "# What are the most five important features?\n",
    "\n",
    "feature_importances = list(rf.feature_importances_)\n",
    "feature_list = []\n",
    "for i in range(0,len(feature_names)):\n",
    "    feature_list.append((feature_names[i], feature_importances[i]))\n",
    "print sorted(feature_list, reverse=True, key=lambda x: x[1])"
   ]
  },
  {
   "cell_type": "code",
   "execution_count": 32,
   "metadata": {
    "collapsed": false
   },
   "outputs": [
    {
     "name": "stdout",
     "output_type": "stream",
     "text": [
      "0.555809181396\n",
      "0.995996910843\n"
     ]
    }
   ],
   "source": [
    "# target 'found.weapon_True'\n",
    "# default\n",
    "# AUC:      0.739404038992\n",
    "# Accuracy: 0.966036132348\n",
    "\n",
    "# What happens to AUC if I change the target variable to found.gun_True?\n",
    "\n",
    "label_test = np.ravel(test[['found.gun_True']].values)\n",
    "label_train = np.ravel(train[['found.gun_True']].values)\n",
    "\n",
    "pred_test = test.drop(['id', 'arrested_True', 'found.weapon_True', 'found.gun_True'], axis=1)\n",
    "pred_test = pred_test.values \n",
    "pred_train = train.drop(['id', 'arrested_True', 'found.weapon_True', 'found.gun_True'], axis=1)\n",
    "pred_train = pred_train.values\n",
    "\n",
    "rf = RandomForestClassifier()\n",
    "rf.fit(X=pred_train, y=label_train)\n",
    "# generate predictions and add them to 'results'\n",
    "rf_predictions = rf.predict_proba(pred_test)[:, 1]\n",
    "results['preds'] = rf_predictions\n",
    "\n",
    "# get AUC score (produce probabilistic predictions)\n",
    "print roc_auc_score(label_test, rf_predictions)\n",
    "\n",
    "# get accuracy (predict the class)\n",
    "rf_predictions_class = rf.predict(pred_test)\n",
    "print accuracy_score(label_test, rf_predictions_class, normalize=True)"
   ]
  },
  {
   "cell_type": "code",
   "execution_count": 34,
   "metadata": {
    "collapsed": false
   },
   "outputs": [
    {
     "name": "stdout",
     "output_type": "stream",
     "text": [
      "0.999999995187\n",
      "0.999946040921\n"
     ]
    }
   ],
   "source": [
    "# What happens to AUC and accuracy if I forgot to take out found.weapon_True from the features?  Why?\n",
    "\n",
    "label_test = np.ravel(test[['found.weapon_True']].values)\n",
    "label_train = np.ravel(train[['found.weapon_True']].values)\n",
    "\n",
    "pred_test = test.drop(['id', 'arrested_True', 'found.gun_True'], axis=1)\n",
    "pred_test = pred_test.values \n",
    "pred_train = train.drop(['id', 'arrested_True', 'found.gun_True'], axis=1)\n",
    "pred_train = pred_train.values\n",
    "\n",
    "rf = RandomForestClassifier()\n",
    "rf.fit(X=pred_train, y=label_train)\n",
    "# generate predictions and add them to 'results'\n",
    "rf_predictions = rf.predict_proba(pred_test)[:, 1]\n",
    "results['preds'] = rf_predictions\n",
    "\n",
    "# get AUC score (produce probabilistic predictions)\n",
    "print roc_auc_score(label_test, rf_predictions)\n",
    "\n",
    "# get accuracy (predict the class)\n",
    "rf_predictions_class = rf.predict(pred_test)\n",
    "print accuracy_score(label_test, rf_predictions_class, normalize=True)"
   ]
  },
  {
   "cell_type": "code",
   "execution_count": 36,
   "metadata": {
    "collapsed": false
   },
   "outputs": [
    {
     "name": "stdout",
     "output_type": "stream",
     "text": [
      "0.87835681544\n",
      "0.967115313924\n"
     ]
    }
   ],
   "source": [
    "# How does AUC change if I forgot to remove 'arrested_True'?  Does that mean I should remove it?\n",
    "\n",
    "pred_test = test.drop(['id', 'found.weapon_True', 'found.gun_True'], axis=1)\n",
    "pred_test = pred_test.values \n",
    "pred_train = train.drop(['id', 'found.weapon_True', 'found.gun_True'], axis=1)\n",
    "pred_train = pred_train.values\n",
    "\n",
    "label_test = np.ravel(test[['found.weapon_True']].values)\n",
    "label_train = np.ravel(train[['found.weapon_True']].values)\n",
    "\n",
    "rf = RandomForestClassifier()\n",
    "rf.fit(X=pred_train, y=label_train)\n",
    "# generate predictions and add them to 'results'\n",
    "rf_predictions = rf.predict_proba(pred_test)[:, 1]\n",
    "results['preds'] = rf_predictions\n",
    "\n",
    "# get AUC score (produce probabilistic predictions)\n",
    "print roc_auc_score(label_test, rf_predictions)\n",
    "\n",
    "# get accuracy (predict the class)\n",
    "rf_predictions_class = rf.predict(pred_test)\n",
    "print accuracy_score(label_test, rf_predictions_class, normalize=True)"
   ]
  },
  {
   "cell_type": "code",
   "execution_count": 44,
   "metadata": {
    "collapsed": false
   },
   "outputs": [
    {
     "name": "stdout",
     "output_type": "stream",
     "text": [
      "[('suspect.age', 0.069421910066146425), ('stopped.bc.object_True', 0.064449065124755595), ('suspect.weight', 0.062975929480893839), ('suspect.height', 0.055719733901685484), ('observation.period', 0.031846405617966041)]\n"
     ]
    }
   ],
   "source": [
    "# Questions:\n",
    "# What are the most five important features?\n",
    "\n",
    "label_test = np.ravel(test[['found.weapon_True']].values)\n",
    "label_train = np.ravel(train[['found.weapon_True']].values)\n",
    "\n",
    "pred_test = test.drop(['id', 'arrested_True', 'found.weapon_True', 'found.gun_True'], axis=1)\n",
    "pred_test = pred_test.values \n",
    "pred_train = train.drop(['id', 'arrested_True', 'found.weapon_True', 'found.gun_True'], axis=1)\n",
    "pred_train = pred_train.values\n",
    "\n",
    "rf = RandomForestClassifier()\n",
    "rf.fit(X=pred_train, y=label_train)\n",
    "# generate predictions and add them to 'results'\n",
    "rf_predictions = rf.predict_proba(pred_test)[:, 1]\n",
    "results['preds'] = rf_predictions\n",
    "\n",
    "feature_importances = list(rf.feature_importances_)\n",
    "feature_list = []\n",
    "for i in range(0,len(feature_names)):\n",
    "    feature_list.append((feature_names[i], feature_importances[i]))\n",
    "print sorted(feature_list, reverse=True, key=lambda x: x[1])[:5]"
   ]
  },
  {
   "cell_type": "code",
   "execution_count": 60,
   "metadata": {
    "collapsed": false
   },
   "outputs": [
    {
     "name": "stderr",
     "output_type": "stream",
     "text": [
      "C:\\Users\\jhuan\\Anaconda2\\lib\\site-packages\\ipykernel\\__main__.py:7: FutureWarning: sort(columns=....) is deprecated, use sort_values(by=.....)\n",
      "C:\\Users\\jhuan\\Anaconda2\\lib\\site-packages\\ipykernel\\__main__.py:11: SettingWithCopyWarning: \n",
      "A value is trying to be set on a copy of a slice from a DataFrame.\n",
      "Try using .loc[row_indexer,col_indexer] = value instead\n",
      "\n",
      "See the caveats in the documentation: http://pandas.pydata.org/pandas-docs/stable/indexing.html#indexing-view-versus-copy\n",
      "C:\\Users\\jhuan\\Anaconda2\\lib\\site-packages\\ipykernel\\__main__.py:14: SettingWithCopyWarning: \n",
      "A value is trying to be set on a copy of a slice from a DataFrame.\n",
      "Try using .loc[row_indexer,col_indexer] = value instead\n",
      "\n",
      "See the caveats in the documentation: http://pandas.pydata.org/pandas-docs/stable/indexing.html#indexing-view-versus-copy\n",
      "C:\\Users\\jhuan\\Anaconda2\\lib\\site-packages\\ipykernel\\__main__.py:18: SettingWithCopyWarning: \n",
      "A value is trying to be set on a copy of a slice from a DataFrame.\n",
      "Try using .loc[row_indexer,col_indexer] = value instead\n",
      "\n",
      "See the caveats in the documentation: http://pandas.pydata.org/pandas-docs/stable/indexing.html#indexing-view-versus-copy\n",
      "C:\\Users\\jhuan\\Anaconda2\\lib\\site-packages\\ipykernel\\__main__.py:21: SettingWithCopyWarning: \n",
      "A value is trying to be set on a copy of a slice from a DataFrame.\n",
      "Try using .loc[row_indexer,col_indexer] = value instead\n",
      "\n",
      "See the caveats in the documentation: http://pandas.pydata.org/pandas-docs/stable/indexing.html#indexing-view-versus-copy\n",
      "C:\\Users\\jhuan\\Anaconda2\\lib\\site-packages\\ipykernel\\__main__.py:29: FutureWarning: sort(columns=....) is deprecated, use sort_values(by=.....)\n"
     ]
    },
    {
     "data": {
      "text/plain": [
       "<matplotlib.axes._subplots.AxesSubplot at 0x2a0db7f0>"
      ]
     },
     "execution_count": 60,
     "metadata": {},
     "output_type": "execute_result"
    },
    {
     "data": {
      "text/plain": [
       "<matplotlib.figure.Figure at 0x1f4c2320>"
      ]
     },
     "metadata": {},
     "output_type": "display_data"
    },
    {
     "data": {
      "image/png": "[encoded data removed]",
      "text/plain": [
       "<matplotlib.figure.Figure at 0x1f5d2748>"
      ]
     },
     "metadata": {},
     "output_type": "display_data"
    }
   ],
   "source": [
    "# Plotting:\n",
    "# Make a recovery plot: if you used the RF model to rank stops by model-predicted likelihood of weapon recovery, \n",
    "# from highest to lowest, what percent of weapons would you recover if you made the best x percent of stops?\n",
    "# The plot should have percent of stops on the x axis and percent weapons recovered on the y axis\n",
    "\n",
    "# 1) order results by column 'preds'\n",
    "results = results.sort(['preds'], ascending=False)\n",
    "\n",
    "# 2) add a column to results which is the cumulative sum of found.weapon_True\n",
    "plot_data = results[['found.weapon_True', 'preds']]\n",
    "plot_data['weap_sum'] = plot_data['found.weapon_True'].cumsum()\n",
    "\n",
    "# 3) use the above cumulative sum to make a column which shows percent weapons recovered\n",
    "plot_data['weap_perc'] = 100*plot_data['weap_sum']/plot_data['found.weapon_True'].sum()\n",
    "\n",
    "# 4) add a column which counts the stops\n",
    "s = [j for j in range(1,296522)]\n",
    "plot_data['nstop'] = s\n",
    "\n",
    "# 5) use the above stop count column to make a column which shows percent of all stops\n",
    "plot_data['stop_perc'] = 100*plot_data['nstop']/plot_data.shape[0]\n",
    "\n",
    "# 6) restrict to just the columns from 3) and 5), downsample to maybe 1000 rows\n",
    "plot_data = plot_data[['stop_perc', 'weap_perc']]\n",
    "rows = random.sample(plot_data.index, 1000)\n",
    "plot_data = plot_data.ix[rows]\n",
    "\n",
    "# 7) sort everything in ascending order by the column from 5), then plot.\n",
    "plot_data = plot_data.sort(['stop_perc'], ascending=True)\n",
    "\n",
    "plt.figure()\n",
    "plot_data.plot(x='stop_perc', y='weap_perc')"
   ]
  }
 ],
 "metadata": {
  "kernelspec": {
   "display_name": "Python 2",
   "language": "python",
   "name": "python2"
  },
  "language_info": {
   "codemirror_mode": {
    "name": "ipython",
    "version": 2
   },
   "file_extension": ".py",
   "mimetype": "text/x-python",
   "name": "python",
   "nbconvert_exporter": "python",
   "pygments_lexer": "ipython2",
   "version": "2.7.13"
  }
 },
 "nbformat": 4,
 "nbformat_minor": 0
}
